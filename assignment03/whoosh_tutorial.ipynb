{
 "cells": [
  {
   "cell_type": "markdown",
   "metadata": {},
   "source": [
    "# Getting started with whoosh"
   ]
  },
  {
   "cell_type": "code",
   "execution_count": 1,
   "metadata": {},
   "outputs": [],
   "source": [
    "import os\n",
    "import csv\n",
    "\n",
    "import whoosh\n",
    "from whoosh import fields, scoring\n",
    "from whoosh.qparser import QueryParser"
   ]
  },
  {
   "cell_type": "markdown",
   "metadata": {},
   "source": [
    "We first define a schema for the data. In this case, each document has a name (which is its ID) and content."
   ]
  },
  {
   "cell_type": "code",
   "execution_count": 2,
   "metadata": {},
   "outputs": [],
   "source": [
    "schema = fields.Schema(name=fields.ID(stored=True), content=fields.TEXT)"
   ]
  },
  {
   "cell_type": "markdown",
   "metadata": {},
   "source": [
    "Next, we create an index according to the schema in a new directory."
   ]
  },
  {
   "cell_type": "code",
   "execution_count": 3,
   "metadata": {},
   "outputs": [],
   "source": [
    "os.makedirs('index', exist_ok=True)\n",
    "idx = whoosh.index.create_in('index', schema)\n",
    "writer = idx.writer()"
   ]
  },
  {
   "cell_type": "markdown",
   "metadata": {},
   "source": [
    "Now we can add some sample documents to our index. Note how the keyword arguments correspond to the schema."
   ]
  },
  {
   "cell_type": "code",
   "execution_count": 4,
   "metadata": {},
   "outputs": [],
   "source": [
    "writer.add_document(name='d1', content='This is the first document we\\'ve added!')\n",
    "writer.add_document(name='d2', content='The second one is even more interesting!')\n",
    "writer.commit()"
   ]
  },
  {
   "cell_type": "markdown",
   "metadata": {},
   "source": [
    "We can now query our index and print the results."
   ]
  },
  {
   "cell_type": "code",
   "execution_count": 5,
   "metadata": {},
   "outputs": [
    {
     "name": "stdout",
     "output_type": "stream",
     "text": [
      "<Hit {'name': 'd1'}>\n"
     ]
    }
   ],
   "source": [
    "query = 'first'\n",
    "with idx.searcher() as searcher:\n",
    "    q = whoosh.qparser.QueryParser('content', idx.schema).parse(query)\n",
    "    results = searcher.search(q)\n",
    "    for r in results:\n",
    "        print(r)"
   ]
  },
  {
   "cell_type": "markdown",
   "metadata": {},
   "source": [
    "# Custom ranking functions"
   ]
  },
  {
   "cell_type": "markdown",
   "metadata": {},
   "source": [
    "We can change the ranking function by passing it to the searcher:"
   ]
  },
  {
   "cell_type": "code",
   "execution_count": 6,
   "metadata": {},
   "outputs": [
    {
     "name": "stdout",
     "output_type": "stream",
     "text": [
      "<Hit {'name': 'd1'}>\n"
     ]
    }
   ],
   "source": [
    "with idx.searcher(weighting=scoring.TF_IDF()) as searcher:\n",
    "    q = QueryParser('content', idx.schema).parse(query)\n",
    "    results = searcher.search(q)\n",
    "    for r in results:\n",
    "        print(r)"
   ]
  },
  {
   "cell_type": "markdown",
   "metadata": {},
   "source": [
    "You can define a custom ranking function too. For example, ``pos_score_fn`` computes a score for a given document using only one field. Here the score is based on the first occurence (position) of the query term."
   ]
  },
  {
   "cell_type": "code",
   "execution_count": 7,
   "metadata": {},
   "outputs": [
    {
     "name": "stdout",
     "output_type": "stream",
     "text": [
      "<Hit {'name': 'd1'}>\n"
     ]
    }
   ],
   "source": [
    "def pos_score_fn(searcher, fieldname, text, matcher):\n",
    "    positions = matcher.value_as('positions')\n",
    "    return 1 / (positions[0] + 1)\n",
    "\n",
    "pos_weighting = scoring.FunctionWeighting(pos_score_fn)\n",
    "with idx.searcher(weighting=pos_weighting) as searcher:\n",
    "    q = QueryParser('content', idx.schema).parse('first')\n",
    "    results = searcher.search(q)\n",
    "    for r in results:\n",
    "        print(r)"
   ]
  },
  {
   "cell_type": "markdown",
   "metadata": {},
   "source": [
    "# Indexing a collection and computing metrics"
   ]
  },
  {
   "cell_type": "markdown",
   "metadata": {},
   "source": [
    "We now index a collection of sample documents. All documents are stored in the file `clueweb_clean_docs_sample.tsv`, where the first column contains the name and the third column contains the content of a document. First, we read the file."
   ]
  },
  {
   "cell_type": "code",
   "execution_count": 8,
   "metadata": {},
   "outputs": [
    {
     "name": "stdout",
     "output_type": "stream",
     "text": [
      "number of docs: 58\n"
     ]
    }
   ],
   "source": [
    "def read_file(file_path, delimiter='\\t'):\n",
    "    doc_list = []\n",
    "    with open(file_path, encoding='utf-8') as csvfile:\n",
    "        reader = csv.reader(csvfile, delimiter=delimiter, quotechar='|', quoting=csv.QUOTE_MINIMAL)\n",
    "        for name, _, content in reader:\n",
    "            # we remove newlines\n",
    "            doc_list.append((name, content.replace('\\n',' ')))\n",
    "    return doc_list\n",
    "\n",
    "doc_list = read_file('clueweb_clean_docs_sample.tsv')\n",
    "print('number of docs: {}'.format(len(doc_list)))"
   ]
  },
  {
   "cell_type": "markdown",
   "metadata": {},
   "source": [
    "Now we can build the index using the same schema as before."
   ]
  },
  {
   "cell_type": "code",
   "execution_count": 9,
   "metadata": {},
   "outputs": [],
   "source": [
    "os.makedirs('cw_index', exist_ok=True)\n",
    "idx = whoosh.index.create_in('cw_index', schema)\n",
    "writer = idx.writer()\n",
    "\n",
    "for name, content in doc_list:\n",
    "    writer.add_document(name=name, content=content)\n",
    "writer.commit()"
   ]
  },
  {
   "cell_type": "markdown",
   "metadata": {},
   "source": [
    "We can also define a function that returns all results for a given query, using some ranking function."
   ]
  },
  {
   "cell_type": "code",
   "execution_count": 10,
   "metadata": {},
   "outputs": [],
   "source": [
    "def search_index(idx, query, ranking_fn):\n",
    "    result_list = []\n",
    "    with idx.searcher(weighting=ranking_fn) as searcher:\n",
    "        q = QueryParser('content', idx.schema).parse(query)\n",
    "        results = searcher.search(q, limit=None)\n",
    "        result_list = [r['name'] for r in results]\n",
    "    return result_list"
   ]
  },
  {
   "cell_type": "markdown",
   "metadata": {},
   "source": [
    "We search for the query `403b`."
   ]
  },
  {
   "cell_type": "code",
   "execution_count": 11,
   "metadata": {},
   "outputs": [
    {
     "name": "stdout",
     "output_type": "stream",
     "text": [
      "found 30 results\n"
     ]
    }
   ],
   "source": [
    "query = '403b'\n",
    "result_list_bm25 = search_index(idx, query, ranking_fn=scoring.BM25F)\n",
    "print('found {} results'.format(len(result_list_bm25)))"
   ]
  },
  {
   "cell_type": "markdown",
   "metadata": {},
   "source": [
    "In order to evaluate a scoring function, we can use some metrics like precision, recall etc. Additionally, we need the query relevance scores, i.e. a list of integers that indicate how relevant a document is for a query. For our query `403b` we can read these relevance scores from the file `403b-qrels.csv`."
   ]
  },
  {
   "cell_type": "code",
   "execution_count": 12,
   "metadata": {},
   "outputs": [],
   "source": [
    "def read_qrels(file_path, delimiter=' '):\n",
    "    qrels = {}\n",
    "    with open(file_path, encoding='utf-8') as csvfile:\n",
    "        reader = csv.reader(csvfile, delimiter=delimiter, quotechar='|', quoting=csv.QUOTE_MINIMAL)\n",
    "        for name, qrel in reader:\n",
    "            qrels[name] = int(qrel)\n",
    "    return qrels\n",
    "\n",
    "qrels = read_qrels('403b-qrels.csv')"
   ]
  },
  {
   "cell_type": "markdown",
   "metadata": {},
   "source": [
    "Now we can implement our metrics and evaluate the ranking function using the results and the query relevance scores."
   ]
  },
  {
   "cell_type": "code",
   "execution_count": 13,
   "metadata": {},
   "outputs": [
    {
     "data": {
      "text/plain": [
       "0.6666666666666666"
      ]
     },
     "execution_count": 13,
     "metadata": {},
     "output_type": "execute_result"
    }
   ],
   "source": [
    "def precision(doc_list, qrels, k):\n",
    "    # we consider a document relevant if its qrel is greater than 0\n",
    "    tp = [name for name in doc_list[:k] if qrels.get(name, 0) > 0]\n",
    "    return len(tp) / k\n",
    "\n",
    "precision(result_list_bm25, qrels, 15)"
   ]
  },
  {
   "cell_type": "markdown",
   "metadata": {},
   "source": [
    "We can also compare BM25 ranking with tf-idf raking."
   ]
  },
  {
   "cell_type": "code",
   "execution_count": 14,
   "metadata": {},
   "outputs": [
    {
     "data": {
      "text/plain": [
       "0.5333333333333333"
      ]
     },
     "execution_count": 14,
     "metadata": {},
     "output_type": "execute_result"
    }
   ],
   "source": [
    "result_list_tfidf = search_index(idx, query, ranking_fn=scoring.TF_IDF)\n",
    "precision(result_list_tfidf, qrels, 15)"
   ]
  }
 ],
 "metadata": {
  "anaconda-cloud": {},
  "kernelspec": {
   "display_name": "Python 3",
   "language": "python",
   "name": "python3"
  },
  "language_info": {
   "codemirror_mode": {
    "name": "ipython",
    "version": 3
   },
   "file_extension": ".py",
   "mimetype": "text/x-python",
   "name": "python",
   "nbconvert_exporter": "python",
   "pygments_lexer": "ipython3",
   "version": "3.6.6"
  }
 },
 "nbformat": 4,
 "nbformat_minor": 1
}
